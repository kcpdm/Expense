{
 "cells": [
  {
   "cell_type": "markdown",
   "metadata": {},
   "source": [
    "# 1.安装和导入"
   ]
  },
  {
   "cell_type": "code",
   "execution_count": 23,
   "metadata": {},
   "outputs": [],
   "source": [
    "import openpyxl #导入openpyxl包\n",
    "from openpyxl import Workbook #导入Workbook类\n",
    "from openpyxl import load_workbook #导入load_workbook类\n",
    "import random"
   ]
  },
  {
   "cell_type": "markdown",
   "metadata": {},
   "source": [
    "# 2. 新建excel表格"
   ]
  },
  {
   "cell_type": "code",
   "execution_count": 24,
   "metadata": {},
   "outputs": [],
   "source": [
    "# 新建一个excel表格\n",
    "wb_new = Workbook()  # 实例化一个表格对象\n",
    "sh_new = wb_new.create_sheet(\"Mysheet\", 0)  #新建一个表格，插入到最开始位置\n",
    "wb_new.save('C:/Users/wangzhuo2/Desktop/new.xlsx') #保存空的excel表格,括号内为绝对路径"
   ]
  },
  {
   "cell_type": "markdown",
   "metadata": {},
   "source": [
    "# 3. 读取已存在的excel表格"
   ]
  },
  {
   "cell_type": "code",
   "execution_count": 38,
   "metadata": {},
   "outputs": [],
   "source": [
    "# 打开一个excel表格\n",
    "wb2 = load_workbook('C:/Users/wangzhuo2/Desktop/new.xlsx')  #从文件绝对路径读取excel表格\n",
    "sh = wb2['Mysheet']                                         #打开工作表格“Mysheet”"
   ]
  },
  {
   "cell_type": "markdown",
   "metadata": {},
   "source": [
    "# 4. 插入行数据"
   ]
  },
  {
   "cell_type": "code",
   "execution_count": 39,
   "metadata": {},
   "outputs": [],
   "source": [
    "sh.append(['第一列','第二列','第三列','第四列','第五列','第六列'])   #传入一个列表，从工作表格最下方左边，按照list的顺序，插入一行\n",
    "sh.append({1:'第二列',2:'第四列',3:'第六列'})                        #传入一个字典，从工作表最下方的空行，按照字典的索引，插入一行\n",
    "wb2.save('C:/Users/wangzhuo2/Desktop/new.xlsx')"
   ]
  },
  {
   "cell_type": "markdown",
   "metadata": {},
   "source": [
    "# 5.针对某个单元格插入值"
   ]
  },
  {
   "cell_type": "code",
   "execution_count": null,
   "metadata": {},
   "outputs": [],
   "source": [
    "sh.cell(row=4, column=5, value=10)                          #row为行，column为列,value为填入的值\n",
    "\n",
    "sh['D10'] = 20                                              #D10单元格赋值为20\n",
    "\n",
    "wb2.save('C:/Users/wangzhuo2/Desktop/new.xlsx')            #保存更改"
   ]
  },
  {
   "cell_type": "markdown",
   "metadata": {},
   "source": [
    "# 6.读取所有数据，一行一行读取（读取数据）"
   ]
  },
  {
   "cell_type": "code",
   "execution_count": 6,
   "metadata": {},
   "outputs": [
    {
     "name": "stdout",
     "output_type": "stream",
     "text": [
      "王学\n",
      "部门\n",
      "职员\n",
      "19150\n",
      "2000\n",
      "200\n",
      "400\n",
      "21350\n",
      "王红\n",
      "部门\n",
      "职员\n",
      "11640\n",
      "3000\n",
      "300\n",
      "400\n",
      "14740\n",
      "None\n",
      "None\n",
      "None\n",
      "None\n",
      "None\n",
      "None\n",
      "None\n",
      "None\n",
      "王红\n",
      "部门\n",
      "职员\n",
      "11640\n",
      "3000\n",
      "300\n",
      "400\n",
      "14740\n"
     ]
    }
   ],
   "source": [
    "for row in  sh.iter_rows(min_row=2, min_col=3):   #min-row为起始行；max-row为停止行，max-col为停止列\n",
    "    for cell in  row:                             #row为从上面的行中取到的一行，cell为该行中单元格\n",
    "        print(cell.value)"
   ]
  },
  {
   "cell_type": "markdown",
   "metadata": {},
   "source": [
    "#  举个栗子：生成工资表"
   ]
  },
  {
   "cell_type": "code",
   "execution_count": 18,
   "metadata": {},
   "outputs": [],
   "source": [
    "# 姓名列表函数，传入参数为名字数量\n",
    "def get_name_list(number):\n",
    "    First = ['学','红','雨','明','亭','涛','平','宇']             # 名列表\n",
    "    Last = ['王','赵','张','宋','李','周','钱','孙','吴','郑','陈','刘'] #姓列表\n",
    "    name_list=[]   #姓名列表，初始为空\n",
    "    \n",
    "    #使用while，判断姓名列表的长度，只有在到达指定长度时推出循环\n",
    "    while len(name_list) <= number:     \n",
    "        name = random.choice(Last) + random.choice(First)  #每次循环随机找出一个名和姓组成名字\n",
    "        if name not in name_list:      #判断名字是否已经在姓名列表中\n",
    "            name_list.append(name)      #如果不在就加入到我们的列表中\n",
    "            \n",
    "    return name_list       #函数返回姓名列表"
   ]
  },
  {
   "cell_type": "code",
   "execution_count": 22,
   "metadata": {},
   "outputs": [
    {
     "ename": "AttributeError",
     "evalue": "__enter__",
     "output_type": "error",
     "traceback": [
      "\u001b[1;31m---------------------------------------------------------------------------\u001b[0m",
      "\u001b[1;31mAttributeError\u001b[0m                            Traceback (most recent call last)",
      "\u001b[1;32m<ipython-input-22-986c6e2542d2>\u001b[0m in \u001b[0;36m<module>\u001b[1;34m\u001b[0m\n\u001b[0;32m      1\u001b[0m \u001b[1;31m# 新建一个excel表格\u001b[0m\u001b[1;33m\u001b[0m\u001b[1;33m\u001b[0m\u001b[1;33m\u001b[0m\u001b[0m\n\u001b[1;32m----> 2\u001b[1;33m \u001b[1;32mwith\u001b[0m \u001b[0mWorkbook\u001b[0m\u001b[1;33m(\u001b[0m\u001b[1;33m)\u001b[0m \u001b[1;32mas\u001b[0m \u001b[0mSalary\u001b[0m\u001b[1;33m:\u001b[0m   \u001b[1;31m# 实例化一个excel文件对象\u001b[0m\u001b[1;33m\u001b[0m\u001b[1;33m\u001b[0m\u001b[0m\n\u001b[0m\u001b[0;32m      3\u001b[0m     \u001b[0msh1\u001b[0m \u001b[1;33m=\u001b[0m \u001b[0mSalary\u001b[0m\u001b[1;33m.\u001b[0m\u001b[0mcreate_sheet\u001b[0m\u001b[1;33m(\u001b[0m\u001b[1;34m\"5月工资\"\u001b[0m\u001b[1;33m,\u001b[0m \u001b[1;36m0\u001b[0m\u001b[1;33m)\u001b[0m  \u001b[1;31m#新建一个表格，插入到最开始位置\u001b[0m\u001b[1;33m\u001b[0m\u001b[1;33m\u001b[0m\u001b[0m\n\u001b[0;32m      4\u001b[0m     \u001b[0msh1\u001b[0m\u001b[1;33m.\u001b[0m\u001b[0mappend\u001b[0m\u001b[1;33m(\u001b[0m\u001b[1;33m[\u001b[0m\u001b[1;34m'序号'\u001b[0m\u001b[1;33m,\u001b[0m\u001b[1;34m'邮箱'\u001b[0m\u001b[1;33m,\u001b[0m\u001b[1;34m'姓名'\u001b[0m\u001b[1;33m,\u001b[0m\u001b[1;34m'部门'\u001b[0m\u001b[1;33m,\u001b[0m\u001b[1;34m'职位'\u001b[0m\u001b[1;33m,\u001b[0m\u001b[1;34m'基本工资'\u001b[0m\u001b[1;33m,\u001b[0m\u001b[1;34m'加班'\u001b[0m\u001b[1;33m,\u001b[0m\u001b[1;34m'社保'\u001b[0m\u001b[1;33m,\u001b[0m\u001b[1;34m'奖金'\u001b[0m\u001b[1;33m,\u001b[0m\u001b[1;34m'实发'\u001b[0m\u001b[1;33m]\u001b[0m\u001b[1;33m)\u001b[0m                \u001b[1;31m#从工作表格最下方左边\u001b[0m\u001b[1;33m\u001b[0m\u001b[1;33m\u001b[0m\u001b[0m\n\u001b[0;32m      5\u001b[0m     \u001b[0memail\u001b[0m \u001b[1;33m=\u001b[0m \u001b[1;33m[\u001b[0m\u001b[1;34m'wangzhuo2@csvw.com'\u001b[0m\u001b[1;33m,\u001b[0m\u001b[1;34m'liyonghao@csvw.com'\u001b[0m\u001b[1;33m,\u001b[0m\u001b[1;34m'wangzhuo0926@hotmail.com'\u001b[0m\u001b[1;33m,\u001b[0m\u001b[1;34m'1744577940@qq.com'\u001b[0m\u001b[1;33m]\u001b[0m    \u001b[1;31m#收件邮箱列表\u001b[0m\u001b[1;33m\u001b[0m\u001b[1;33m\u001b[0m\u001b[0m\n",
      "\u001b[1;31mAttributeError\u001b[0m: __enter__"
     ]
    }
   ],
   "source": [
    "# 新建一个excel表格\n",
    "Salary = Workbook()  # 实例化一个excel文件对象\n",
    "sh1 = Salary.create_sheet(\"5月工资\", 0)  #新建一个表格，插入到最开始位置\n",
    "sh1.append(['序号','邮箱','姓名','部门','职位','基本工资','加班','社保','奖金','实发'])                #从工作表格最下方左边\n",
    "email = ['wangzhuo2@csvw.com','liyonghao@csvw.com','wangzhuo0926@hotmail.com','1744577940@qq.com']    #收件邮箱列表\n",
    "\n",
    "name_list = get_name_list(20)\n",
    "for i in range(1,20):\n",
    "    base = random.randrange(10000,20000,10)\n",
    "    extra = random.choice([0,2000,3000])\n",
    "    socialS = random.choice([200,300,400,500])\n",
    "    bounus = random.choice([0,200,300,400,500])\n",
    "    name = name_list[i-1]\n",
    "    actual = base + extra + bounus - socialS\n",
    "    sh1.append([i,random.choice(email),name,'部门','职员',base,extra,socialS,\n",
    "               bounus,actual])\n",
    "Salary.save('C:/Users/wangzhuo2/Desktop/工资表.xlsx')                                         "
   ]
  },
  {
   "cell_type": "code",
   "execution_count": null,
   "metadata": {},
   "outputs": [],
   "source": []
  }
 ],
 "metadata": {
  "kernelspec": {
   "display_name": "Python 3",
   "language": "python",
   "name": "python3"
  },
  "language_info": {
   "codemirror_mode": {
    "name": "ipython",
    "version": 3
   },
   "file_extension": ".py",
   "mimetype": "text/x-python",
   "name": "python",
   "nbconvert_exporter": "python",
   "pygments_lexer": "ipython3",
   "version": "3.7.6"
  }
 },
 "nbformat": 4,
 "nbformat_minor": 4
}
