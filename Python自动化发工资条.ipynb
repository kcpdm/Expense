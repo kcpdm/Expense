{
 "cells": [
  {
   "cell_type": "markdown",
   "metadata": {
    "slideshow": {
     "slide_type": "-"
    }
   },
   "source": [
    "# 使用win32模块发邮件"
   ]
  },
  {
   "cell_type": "markdown",
   "metadata": {},
   "source": [
    "# 1. 导入需要用到的模块"
   ]
  },
  {
   "cell_type": "code",
   "execution_count": 1,
   "metadata": {},
   "outputs": [],
   "source": [
    "from openpyxl import load_workbook    #openpyxl模块\n",
    "from email.mime.text import MIMEText  # 邮件正文\n",
    "from email.header import Header       # 邮件头\n",
    "import smtplib, time \n",
    "from win32com import client"
   ]
  },
  {
   "cell_type": "markdown",
   "metadata": {},
   "source": [
    "# 2. 读取excel文件和编辑邮件内容函数(使用win32模块)"
   ]
  },
  {
   "cell_type": "code",
   "execution_count": 2,
   "metadata": {},
   "outputs": [],
   "source": [
    "def op_excel(filename:str):\n",
    "    # 加载excel文件 data_only=True，自动计算公式\n",
    "    wb = load_workbook(filename, data_only=True)  # 使用xlsx文件，不要使用xls\n",
    "    sheet = wb.active\n",
    " \n",
    "    # 先取列名，因为使用了break函数，所以只能取到第一行即列名\n",
    "    table_col_name = []\n",
    "    for row in sheet.rows:\n",
    "        for cell in row:\n",
    "            # print(cell.value)\n",
    "            table_col_name.append(cell.value)\n",
    "        break\n",
    " \n",
    "    # 循环excel\n",
    "    for row in sheet.iter_rows(min_row = 2):  #min_row表示从第二行开始取值，因为第一行是列名，min\n",
    "        table_col_html = '<thead>'  # 表头\n",
    "        row_text = '<tr>'  # 开始一行\n",
    "        list_del = []  # 准备减掉的字段\n",
    "        list_finally = table_col_name[2:]  # 最终的字段\n",
    "        \n",
    "        #判断是否有值为0，或者为空的字段，如果有就去掉这一列\n",
    "        for cell in row[2:]:\n",
    "            # print(cell.value, type(cell.value))    # None <class 'NoneType'>  0 <class 'int'>\n",
    "            if cell.value == None or cell.value == 0:  # 数据为零或空\n",
    "                # print(cell.col_idx)   # 列数，从1开始数\n",
    "                list_del.append(table_col_name[cell.col_idx - 1])\n",
    "            else:\n",
    "                row_text += f'<td>{cell.value}</td>'\n",
    "        row_text += '</tr>'  # 结束一行\n",
    " \n",
    "        # 去掉值为零或空的字段\n",
    "        for i in list_del:\n",
    "            list_finally.remove(i)\n",
    " \n",
    "        # 重写首行\n",
    "        for i in list_finally:\n",
    "            table_col_html += f'<th>{i}</th>'\n",
    "        table_col_html += '</thead>'\n",
    " \n",
    "        # 员工姓名\n",
    "        name = row[2].value  # 从0开始数，第2列\n",
    "        staff_email = row[1].value  # 员工邮箱地址 从0开始数，第1列\n",
    " \n",
    "        mail_body_context = f'''<h3>{name}：你好！</h3>\n",
    "            <p>请查收你2020年5月的工资条。</p>\n",
    "            <table border=\"1px solid black\">\n",
    "            {table_col_html}\n",
    "            {row_text}\n",
    "            </table>\n",
    "            '''\n",
    "        # 发邮件\n",
    "        if staff_email is None:\n",
    "            continue\n",
    "        win32_send(staff_email,mail_body_context)             #发送邮件到对应人邮箱\n",
    "        print(f'成功发送工资条到{staff_email}--{name}...')    #打印出来当前的发送信息\n",
    "       "
   ]
  },
  {
   "cell_type": "markdown",
   "metadata": {},
   "source": [
    "# 3. Win32模块发送邮件函数"
   ]
  },
  {
   "cell_type": "code",
   "execution_count": 3,
   "metadata": {},
   "outputs": [],
   "source": [
    "def win32_send(Receiver,Body):\n",
    "    outlook = client.Dispatch('outlook.application')  #实例化一个win32对象，对象操纵outlook这个app\n",
    "    mail = outlook.CreateItem(0)                               #新建一个邮件\n",
    "    mail.To = Receiver                                         #收件人邮箱\n",
    "    mail.Subject = '2020年5月工资条'                           #邮件主题\n",
    "    \n",
    "    mail.BodyFormat = 2                                        #邮件的文本格式，2代表html格式\n",
    "    mail.HTMLBody= Body                                        #邮件的正文\n",
    "    mail.Send()                                                #发送邮件"
   ]
  },
  {
   "cell_type": "markdown",
   "metadata": {},
   "source": [
    "# 发送邮件吧！"
   ]
  },
  {
   "cell_type": "code",
   "execution_count": 4,
   "metadata": {},
   "outputs": [
    {
     "name": "stdout",
     "output_type": "stream",
     "text": [
      "成功发送工资条到wangzhuo2@csvw.com--刘明...\n",
      "脚本执行完毕，耗时0.064秒。\n"
     ]
    }
   ],
   "source": [
    "time_start = time.time()  #得到程序开始的时间\n",
    "filename = 'C:/Users/wangzhuo2/Desktop/工资表.xlsx'       #工资条的表格地址\n",
    "op_excel(filename)        #读取excel文件中的内容，并发送邮件 \n",
    "time_end = time.time()    #得到执行结束的时间\n",
    "print('脚本执行完毕，耗时%.3f秒。' % (time_end - time_start))"
   ]
  },
  {
   "cell_type": "markdown",
   "metadata": {},
   "source": [
    "# 使用smtplib模块发邮件"
   ]
  },
  {
   "cell_type": "markdown",
   "metadata": {},
   "source": [
    "# 1. 登录邮箱"
   ]
  },
  {
   "cell_type": "code",
   "execution_count": null,
   "metadata": {},
   "outputs": [],
   "source": [
    "# 登录邮箱，并返回smtp\n",
    "def login(smtp_server, ssl_port, sender, passwd):\n",
    "    smtp_obj = smtplib.SMTP_SSL(smtp_server, ssl_port)\n",
    "    smtp_obj.login(sender, passwd)\n",
    "    return smtp_obj"
   ]
  },
  {
   "cell_type": "markdown",
   "metadata": {},
   "source": [
    "# 2.读取excel文件，并发送邮件"
   ]
  },
  {
   "cell_type": "code",
   "execution_count": null,
   "metadata": {},
   "outputs": [],
   "source": [
    "def op_excel(smtp_obj, filename:str):\n",
    "    # 加载excel文件 data_only=True，自动计算公式\n",
    "    wb = load_workbook(filename, data_only=True)  # 使用xlsx文件，不要使用xls\n",
    "    sheet = wb.active\n",
    " \n",
    "    # 先取列名\n",
    "    table_col_name = []\n",
    "    for row in sheet.rows:\n",
    "        for cell in row:\n",
    "            # print(cell.value)\n",
    "            table_col_name.append(cell.value)\n",
    "        break\n",
    " \n",
    "    # 循环excel，每次循环发送一封邮件\n",
    "    for row in sheet.iter_rows(min_row = 2):  #从第二行第三列开始，每行都跳过前两列\n",
    "        table_col_html = '<thead>'  # 表头\n",
    "        row_text = '<tr>'  # 开始一行\n",
    "        list_del = []  # 准备减掉的字段\n",
    "        list_finally = table_col_name[2:]  # 最终的字段\n",
    "        \n",
    "        #判断是否有值为0，或者为空的字段，如果有就去掉这一列\n",
    "        for cell in row[2:]:\n",
    "            # print(cell.value, type(cell.value))    # None <class 'NoneType'>  0 <class 'int'>\n",
    "            if cell.value == None or cell.value == 0:  # 数据为零或空\n",
    "                # print(cell.col_idx)                    # 列数，从1开始数\n",
    "                list_del.append(table_col_name[cell.col_idx - 1])  #因为列数cell.col_idx是从1开始的，list索引是从0开始的，所以需要减1\n",
    "            else:\n",
    "                row_text += f'<td>{cell.value}</td>'\n",
    "        row_text += '</tr>'  # 结束一行\n",
    " \n",
    "        # 去掉值为零或空的字段\n",
    "        for i in list_del:\n",
    "            list_finally.remove(i)\n",
    " \n",
    "        # 重写首行\n",
    "        for i in list_finally:\n",
    "            table_col_html += f'<th>{i}</th>'\n",
    "        table_col_html += '</thead>'\n",
    " \n",
    "        # 员工姓名\n",
    "        name = row[2].value  # 从0开始数，第2列\n",
    "        staff_email = row[1].value  # 员工邮箱地址 从0开始数，第1列\n",
    " \n",
    "        mail_body_context = f'''<h3>{name}：你好！</h3>\n",
    "            <p>请查收你2020年5月的工资条。</p>\n",
    "            <table border=\"1px solid black\">\n",
    "            {table_col_html}\n",
    "            {row_text}\n",
    "            </table>\n",
    "            '''\n",
    "        msg = MIMEText(mail_body_context, 'html', 'utf-8')\n",
    " \n",
    "        msg['From'] = Header('人力资源部', 'utf-8')           # 发送者\n",
    "        msg['To'] = Header('员工', 'utf-8')                  # 接收者\n",
    "        msg['Subject'] = Header('2020年5月工资条', 'utf-8')  # 主题\n",
    " \n",
    "        # 发邮件\n",
    "        try:\n",
    "            smtp_obj.sendmail(sender, [staff_email], msg.as_string())\n",
    "            print(f'成功发送工资条到{staff_email}--{name}...')\n",
    "        except smtplib.SMTPException as e:\n",
    "            print('Error：无法发送邮件.Case:%s' % e)\n",
    " "
   ]
  },
  {
   "cell_type": "markdown",
   "metadata": {},
   "source": [
    "# 再发一遍！"
   ]
  },
  {
   "cell_type": "code",
   "execution_count": null,
   "metadata": {},
   "outputs": [],
   "source": [
    "time_start = time.time()\n",
    "\n",
    "smtp_server = 'smtp.qq.com'  # SMTP服务器\n",
    "ssl_port = 465               # SMTP端口\n",
    "sender = '1744577940@qq.com'  # 发件人邮箱\n",
    "passwd = 'pflstiewztbyeegb'  # 发件人密码\n",
    "filename = input(\"请输入文件地址：\")\n",
    "# filename = 'C:/Users/wangzhuo2/Desktop/new.xlsx'\n",
    "\n",
    "smtp_obj = login(smtp_server, ssl_port, sender, passwd)\n",
    "op_excel(smtp_obj, filename)\n",
    "time_end = time.time()\n",
    "print('脚本执行完毕，耗时%.3f秒。' % (time_end - time_start))"
   ]
  },
  {
   "cell_type": "code",
   "execution_count": null,
   "metadata": {},
   "outputs": [],
   "source": []
  }
 ],
 "metadata": {
  "kernelspec": {
   "display_name": "Python 3",
   "language": "python",
   "name": "python3"
  },
  "language_info": {
   "codemirror_mode": {
    "name": "ipython",
    "version": 3
   },
   "file_extension": ".py",
   "mimetype": "text/x-python",
   "name": "python",
   "nbconvert_exporter": "python",
   "pygments_lexer": "ipython3",
   "version": "3.7.6"
  }
 },
 "nbformat": 4,
 "nbformat_minor": 4
}
